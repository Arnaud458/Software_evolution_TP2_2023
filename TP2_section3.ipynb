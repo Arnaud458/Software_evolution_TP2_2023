{
 "cells": [
  {
   "cell_type": "markdown",
   "id": "978a24fe-cb2e-4efc-a2e5-28e910e871d2",
   "metadata": {},
   "source": [
    "# Software Evolution - Practical Session\n",
    "## Laws of software evolution, code counting, code duplication and dependency analysis\n",
    "## Academic year 2022-2023"
   ]
  },
  {
   "cell_type": "markdown",
   "id": "57eb142c-d3ef-4d5e-94cb-d521369b384b",
   "metadata": {},
   "source": [
    "### Write your answers under the questions that are present in this notebook  \n",
    "\n",
    "### Read Section 1 and Section 3 in the provided description document before proceeding with the following section "
   ]
  },
  {
   "cell_type": "markdown",
   "id": "bde8b638-45f5-4f29-8773-66245bcca28a",
   "metadata": {},
   "source": [
    "### Java version 9, JDK 9.0.4, JRE 9.0.4, change environment variable to this version\n",
    "MAC:  \n",
    "In terminal type \n",
    "1. /usr/libexec/java_home -V\n",
    "2. export JAVA_HOME=`/usr/libexec/java_home -v <version>`\n",
    "3. java -version\n",
    "\n",
    "Windows:\n",
    "download JDK 9.0.4, change the env variable JAVA_HOME (jdk-9.0.4) and JRE_HOME (jre-9.0.4), to the Path variable add - jdk-9.0.4\\bin path"
   ]
  },
  {
   "cell_type": "code",
   "execution_count": 1,
   "id": "55d3a082-512b-40e6-95bf-27191ea9aaaa",
   "metadata": {},
   "outputs": [],
   "source": [
    "import os\n",
    "import json\n",
    "from tqdm import tqdm\n",
    "import pandas as pd\n",
    "import numpy as np\n",
    "import subprocess\n",
    "from scipy.stats import skew"
   ]
  },
  {
   "cell_type": "markdown",
   "id": "41c8b82f-7b7c-4681-af4f-72eae5a75b78",
   "metadata": {},
   "source": [
    "## 3 Analysing system structure"
   ]
  },
  {
   "cell_type": "markdown",
   "id": "d6014f75-d74b-42b1-8149-119173b17ec8",
   "metadata": {},
   "source": [
    "### 3.1 Code counting analysis\n",
    "### Questions:\n",
    "1. How many Java packages does the code of the application contain? How many classes (and interfaces) and lines of code (LOC) does the system have?"
   ]
  },
  {
   "cell_type": "markdown",
   "id": "c778d027-b48f-40a2-80b9-d3debda0c7cb",
   "metadata": {},
   "source": [
    "437 classes & interfaces. 152417 lines of code in java (no blank, no comment)"
   ]
  },
  {
   "cell_type": "markdown",
   "id": "1f7da5c6-a942-4800-9eb0-7d6aa70ee879",
   "metadata": {},
   "source": [
    "2. How many of these classes and lines correspond to production code? How many of these classes and lines correspond to test code?"
   ]
  },
  {
   "cell_type": "markdown",
   "id": "9553b94e-a61f-46dc-bb72-5136796226f3",
   "metadata": {},
   "source": []
  },
  {
   "cell_type": "markdown",
   "id": "d8ed9f8d-b3f9-49b7-8ad6-9e650d299c38",
   "metadata": {},
   "source": [
    "3. How many classes and lines of code does each package have? (Minimum / maximum / average / median). How much skewed is the distribution of number of classes and total lines of code? Prove it empirically."
   ]
  },
  {
   "cell_type": "markdown",
   "id": "88cca201-f5de-4736-a333-867ceb7ad3c4",
   "metadata": {},
   "source": []
  },
  {
   "cell_type": "markdown",
   "id": "c1fd922b-13d5-404c-87f2-e449f4119806",
   "metadata": {},
   "source": [
    "4. How extensively is the source code commented? (provide the code used for this checking)  \n",
    "a. Overall  \n",
    "b. Package level"
   ]
  },
  {
   "cell_type": "markdown",
   "id": "77858e94-fbfb-47a3-adf3-9dfe77156694",
   "metadata": {},
   "source": []
  },
  {
   "cell_type": "markdown",
   "id": "e29bf2e5-9557-4406-9035-b70085ff17b4",
   "metadata": {},
   "source": [
    "5. How extensively is the source code tested?"
   ]
  },
  {
   "cell_type": "markdown",
   "id": "4ca227e4-01e9-40dc-a70a-80d76f5440f0",
   "metadata": {},
   "source": []
  },
  {
   "cell_type": "markdown",
   "id": "1c34bddd-c5d7-4374-8f21-927720d6b11d",
   "metadata": {},
   "source": [
    "### 3.2 Code duplication "
   ]
  },
  {
   "cell_type": "markdown",
   "id": "ecc942bf-d3cc-4efa-84c4-ade3b4ff4f01",
   "metadata": {},
   "source": [
    "### Questions:\n",
    "1. How many instances of duplicate code did you find? What is the threshold value for duplicates that you chose? why?"
   ]
  },
  {
   "cell_type": "markdown",
   "id": "508e6296-8fc5-487e-9b27-de896e5c43ec",
   "metadata": {},
   "source": [
    "512. Treshold is 4 lines (45 units in IntelliJ). Smaller treshold would gather too many \"duplications\" that are not relevant (declaration, loops, etc)"
   ]
  },
  {
   "cell_type": "markdown",
   "id": "eb56d138-cb3e-4879-884b-b4dfbe540f5f",
   "metadata": {},
   "source": [
    "2. Order the identified clones starting from the most important ones (in terms of size, frequency, etc.)"
   ]
  },
  {
   "cell_type": "markdown",
   "id": "2cd0c87d-ebd7-4dcd-a99e-cecd4aa7d0ef",
   "metadata": {},
   "source": []
  },
  {
   "cell_type": "markdown",
   "id": "39cecfbc-626d-491f-8699-ea2c2007b35a",
   "metadata": {},
   "source": [
    "3. Give an example of a class/package that is   \n",
    "a) reported as duplicate by the tool but is not a duplicate/cannot be solved? Give reason  \n",
    "b) reported as duplicate by the tool and is really a duplciate that can be solved  "
   ]
  },
  {
   "cell_type": "markdown",
   "id": "9360a48c-6afb-4613-98c0-6c1d971886e1",
   "metadata": {},
   "source": [
    "a) Byteprocessor class. Duplicated code between lines 148-154 and 761-767. Those are loop condition and returns value, hard to change them without rewritting the hole class. Try/catch blocks in Neuqant class are duplicated. Since the errors catched are the same the code will be similar, cannot be solved.\n",
    "b) "
   ]
  },
  {
   "cell_type": "markdown",
   "id": "d4f25370-5ff6-479e-8cbc-695bc9845c27",
   "metadata": {},
   "source": [
    "4. Which packages/classes/methods would be most problematic if you want to change a particular code fragment? What is the size and cost of code duplication instances?"
   ]
  },
  {
   "cell_type": "markdown",
   "id": "10a0df55-2545-4120-9fff-d8a6af885803",
   "metadata": {},
   "source": []
  },
  {
   "cell_type": "markdown",
   "id": "3c4f3e34-a810-4958-b2ed-953f2aad37c2",
   "metadata": {},
   "source": [
    "5. Propose possible solutions to eliminate the identified duplicated code."
   ]
  },
  {
   "cell_type": "markdown",
   "id": "2622fb6b-b498-4822-87f2-a439f31ef479",
   "metadata": {},
   "source": []
  },
  {
   "cell_type": "markdown",
   "id": "4bac5dd8-e2cc-4a8e-bfff-84cc48fc4b30",
   "metadata": {},
   "source": [
    "### 3.3 Dependency analysis and structural quality"
   ]
  },
  {
   "cell_type": "markdown",
   "id": "c092ac41-c656-4886-adb2-b4ae42bd40b6",
   "metadata": {},
   "source": [
    "### Questions:\n",
    "1. Are there any cyclic dependencies between classes or packages? How many classes or packages participate in these cycles?"
   ]
  },
  {
   "cell_type": "markdown",
   "id": "0200680c-d630-44e5-8239-08c041093c81",
   "metadata": {},
   "source": [
    "IntelliJ found no cycling dependency"
   ]
  },
  {
   "cell_type": "markdown",
   "id": "3e7d9377-4ddf-4a58-8c40-c921dc8387d4",
   "metadata": {},
   "source": [
    "2. Are there any package that depend on other packages? Are there any packages to which other packages are dependent on?"
   ]
  },
  {
   "cell_type": "markdown",
   "id": "abebdf46-0ea1-4bbd-8cf1-001f5257f63d",
   "metadata": {},
   "source": [
    "There are a lot on dependencies between packages. (ex: packages process depends on Variable in package frame."
   ]
  },
  {
   "cell_type": "markdown",
   "id": "0408eb1d-56af-4ba8-ad0e-defc9d4e4fd7",
   "metadata": {},
   "source": [
    "3. Report the cyclomatic complexity (v(G)) and cognitivie complexity (Cog(G))  \n",
    "a. Total  \n",
    "b. Average  \n",
    "c. Method with highest Cyclomatic complexity  \n",
    "d. Method with highest Cognitive complexity  \n",
    "e. Method with highest Cyclomatic and Cognitive complexity  \n",
    "f. What do these numbers convey about the complexity? \"test complex\" and \"code readability and understanding\""
   ]
  },
  {
   "cell_type": "markdown",
   "id": "bac7970f-b590-4d17-9bff-9ef037d4df46",
   "metadata": {},
   "source": [
    "a. Cog(G) = 50620. v(G) = 44045\n",
    "\n",
    "b. Cog(G) = 5.54. v(G) = 4.83\n",
    "\n",
    "c. highest v(G) : run(String) in FolderOpener\n",
    "\n",
    "d. highest Cog(G) : drawAxestricksGridNumbers(double[]) \n",
    "\n",
    "e. Highest Cog(G) and v(G) :  run(String) in FolderOpener"
   ]
  },
  {
   "cell_type": "markdown",
   "id": "3f9cf852-f54c-47e9-93d3-f3a4565ae794",
   "metadata": {},
   "source": [
    "4. Which parts of the system are the most complex ones? Give two examples of the most complex class, method and pacakge as per your observation."
   ]
  },
  {
   "cell_type": "markdown",
   "id": "e0a60db1-efe8-4414-a0a7-8e9ee3df2cab",
   "metadata": {},
   "source": [
    "plugin package is the most complex one in ij.\n",
    "\n",
    "Functiun and FolderOpener are the most complex classes in ij.\n",
    "\n",
    "run(String) in FolderOpener in the most complex method in ij."
   ]
  },
  {
   "cell_type": "markdown",
   "id": "964ef69d-b3a8-4e60-bb15-bb7453514b4b",
   "metadata": {},
   "source": [
    "5. Comment on the complexity of the system (with some examples) using metrics such as coupling between objects (CBO), response for a class (RFC), lack of cohesion in methods (LCOM) and Weighted Method Complexity (WMC)? To reduced the complexity, which metric value(s) (CBO, RFC, LCOM, WMC) should increase and which metric value(s) should decrease?"
   ]
  },
  {
   "cell_type": "markdown",
   "id": "9f8f957a-5d7c-4b0e-95a1-cb98156edc78",
   "metadata": {},
   "source": []
  },
  {
   "cell_type": "markdown",
   "id": "63057755-9bfd-4aca-9aaa-6c641f206045",
   "metadata": {},
   "source": [
    "6. Report the number of violations for code style and design using the right metric. For example, you can use the code inspection tool, PMD plugin or any other tool."
   ]
  },
  {
   "cell_type": "markdown",
   "id": "3cc4e539-7f1c-45c2-a6ea-00e2c00b5ac7",
   "metadata": {},
   "source": [
    "3700+ violations with PMD"
   ]
  },
  {
   "cell_type": "markdown",
   "id": "be6212bc-80c0-4196-9d89-b73e1d1691b0",
   "metadata": {},
   "source": [
    "7. What can be observed through profiling? Comment on the memory usage? "
   ]
  },
  {
   "cell_type": "markdown",
   "id": "c1f2ce3f-a3f1-468f-8573-4d7e89707cdc",
   "metadata": {},
   "source": []
  },
  {
   "cell_type": "markdown",
   "id": "84593afd-1a09-46ab-be5b-831cab5abfee",
   "metadata": {},
   "source": [
    "#### Following Questions need to be answered with Structure101 Studio\n",
    "1. Install Studio from Structure101 (30 day free trial)\n",
    "2. Click New\n",
    "3. Choose Add Archive\n",
    "4. Select the .jar file, click open and click Next\n",
    "5. Choose Detail and click Next\n",
    "6. Choose Show externals and choose Next\n",
    "7. Select all the violations options and click Next and click Finish\n",
    "8. You will see the high level connections between packages, click and expand each package to see the dependcy between methods and classes\n",
    "9. On the left panel, you can see the structural over-complexity plot"
   ]
  },
  {
   "cell_type": "markdown",
   "id": "1827ce04-4d95-4856-9e82-2e4509a3e06c",
   "metadata": {},
   "source": [
    "### Questions:"
   ]
  },
  {
   "cell_type": "markdown",
   "id": "5b6c0b82-01cf-4fe6-9427-621a7b4bac08",
   "metadata": {},
   "source": [
    "8. With the Structure101 Studio, comment your observation on the overall structural complexity using metrics such as \"Tangled\" and \"Fat\" "
   ]
  },
  {
   "cell_type": "markdown",
   "id": "a84afd32-60b7-4db4-b88c-a0c3d2956cd4",
   "metadata": {},
   "source": []
  },
  {
   "cell_type": "markdown",
   "id": "c9c7831f-a70f-4fa9-ba2b-d58dd50d453a",
   "metadata": {},
   "source": [
    "### A view on a very well structured package\n",
    "#### Clone the TimerStopWatch package from https://github.com/ecos-umons/TimerStopwatch and perform the following analysis\n",
    "#### On TimerStopWatch package\n",
    "9. With the structure101 Studio, comment your observation on the overall structural complexity for TimerStopWatch"
   ]
  },
  {
   "cell_type": "markdown",
   "id": "42a420c7-45e5-48aa-98f4-a1dedfdd05c5",
   "metadata": {},
   "source": []
  },
  {
   "cell_type": "markdown",
   "id": "19615f04-639c-4301-b540-24d31a185735",
   "metadata": {},
   "source": [
    "10. With the help of \"Tangled\", \"Fat\" and the visualiation, comment which package is well structured and easy for maintenance. Motivate your answer."
   ]
  },
  {
   "cell_type": "markdown",
   "id": "804c0c15-907a-4067-a99e-ea6df4e0d4d8",
   "metadata": {},
   "source": []
  }
 ],
 "metadata": {
  "kernelspec": {
   "display_name": "Python 3 (ipykernel)",
   "language": "python",
   "name": "python3"
  },
  "language_info": {
   "codemirror_mode": {
    "name": "ipython",
    "version": 3
   },
   "file_extension": ".py",
   "mimetype": "text/x-python",
   "name": "python",
   "nbconvert_exporter": "python",
   "pygments_lexer": "ipython3",
   "version": "3.10.7"
  }
 },
 "nbformat": 4,
 "nbformat_minor": 5
}
