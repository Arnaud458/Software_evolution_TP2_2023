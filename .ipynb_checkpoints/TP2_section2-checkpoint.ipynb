{
 "cells": [
  {
   "cell_type": "markdown",
   "id": "978a24fe-cb2e-4efc-a2e5-28e910e871d2",
   "metadata": {},
   "source": [
    "# Software Evolution - Practical Session\n",
    "## Laws of software evolution, code counting, code duplication and dependency analysis\n",
    "## Academic year 2022-2023"
   ]
  },
  {
   "cell_type": "markdown",
   "id": "57eb142c-d3ef-4d5e-94cb-d521369b384b",
   "metadata": {},
   "source": [
    "### Write your answers under the questions that are present in this notebook  \n",
    "\n",
    "### Read Section 1 and Section 2 in the provided description document before proceeding with the following section "
   ]
  },
  {
   "cell_type": "code",
   "execution_count": 1,
   "id": "55d3a082-512b-40e6-95bf-27191ea9aaaa",
   "metadata": {},
   "outputs": [],
   "source": [
    "import os\n",
    "import json\n",
    "import scipy.stats\n",
    "from tqdm import tqdm\n",
    "import pandas as pd\n",
    "import numpy as np\n",
    "import matplotlib.pyplot as plt\n",
    "import subprocess\n",
    "import math\n",
    "from pandas import option_context\n",
    "from sklearn.linear_model import LinearRegression\n",
    "from sklearn.preprocessing import PolynomialFeatures"
   ]
  },
  {
   "cell_type": "code",
   "execution_count": null,
   "id": "56fac77c",
   "metadata": {},
   "outputs": [],
   "source": []
  },
  {
   "cell_type": "markdown",
   "id": "6d83b58e-d5ad-4004-8cc5-e4b31721bb12",
   "metadata": {},
   "source": [
    "## 2. Verifying laws of software evolution"
   ]
  },
  {
   "cell_type": "code",
   "execution_count": 2,
   "id": "0f76117a-1a18-4cb5-8ed0-3fa9cfdfc31c",
   "metadata": {},
   "outputs": [],
   "source": [
    "#Enter the path where the Eucalyptus project is present\n",
    "eucalyptus_project_path = '~/Documents/SE/eucalyptus'"
   ]
  },
  {
   "cell_type": "markdown",
   "id": "081450a6-87af-484c-8a64-56d49eccff80",
   "metadata": {},
   "source": [
    "### 2.1 Data prepocessing\n",
    "1. Get all the tags present in the eucalyptus project using CLOC\n",
    "2. Filter out the tags that do not correspond to official releases"
   ]
  },
  {
   "cell_type": "markdown",
   "id": "340322a1-719b-472b-8b2a-40c974224c1c",
   "metadata": {},
   "source": [
    "Code hint:  \n",
    "To get the tags that are present in the project - \"command = f'git -C {eucalyptus_project_path} tag -l --format=\"%(refname:short)\" | sort -r'\"   \n",
    "To read the terminal output - 'process = subprocess.Popen(command, stdout=subprocess.PIPE, shell=True)'"
   ]
  },
  {
   "cell_type": "code",
   "execution_count": 3,
   "id": "8cede273-9ee7-4e38-b340-9ad4eca08c18",
   "metadata": {
    "scrolled": true
   },
   "outputs": [
    {
     "name": "stdout",
     "output_type": "stream",
     "text": [
      "['1.0-beta', '1.4', '1.5.0', '1.5.1', '1.5.2', '1.6.1', '2.0.0', '2.0.1', '2.0-beta', '2.0-branch', '3.0.0', '3.0.1', '3.0-alpha1', '3.0-beta2', '3.0-beta3', '3.0-beta4', '3.0-beta5', '3.0-beta6', '3.0-rc1', '3.0-rc2', '3.0-rc3', '3.1.0', '3.1.1', '3.1.2', '3.1-alpha2', '3.1-beta1', '3.2.0', '3.2.1', '3.2.2', '3.3.0', '3.3.0.1', '3.3.1', '3.3.2', '3.3-m1', '3.3-m2', '3.3-m3', '3.3-m4', '3.3-m5', '3.3-m6', '3.4.0', '3.4.1', '3.4.2', 'ha-baseline', 'jaunty', 'karmic', 'v4.0.0', 'v4.0.1', 'v4.0.2', 'v4.1.0', 'v4.1.1', 'v4.1.2', 'v4.2.0', 'v4.2.1', 'v4.2.2', 'v4.3.0', 'v4.3.0.1', 'v4.3.1', 'v4.3.1.1', 'v4.4.0', 'v4.4.1', 'v4.4.2']\n"
     ]
    }
   ],
   "source": [
    "command = f'git -C {eucalyptus_project_path} tag -l --format=\"%(refname:short)\" | sort'\n",
    "process = subprocess.Popen(command, stdout=subprocess.PIPE, shell=True)\n",
    "tags = list (line.strip().decode(\"utf-8\") for line in process.stdout)\n",
    "print(tags)"
   ]
  },
  {
   "cell_type": "code",
   "execution_count": 4,
   "id": "e8ed2aea-5e29-4cfa-82fa-f43e233fb5ee",
   "metadata": {},
   "outputs": [
    {
     "name": "stdout",
     "output_type": "stream",
     "text": [
      "Major_minor :  ['1.4', '1.5.0', '1.6.1', '2.0.0', '3.0.0', '3.1.0', '3.2.0', '3.3.0', '3.4.0', 'v4.0.0', 'v4.1.0', 'v4.2.0', 'v4.3.0', 'v4.4.0']\n",
      "Major_minor_patch :  ['1.4', '1.5.0', '1.5.1', '1.5.2', '1.6.1', '2.0.0', '2.0.1', '3.0.0', '3.0.1', '3.1.0', '3.1.1', '3.1.2', '3.2.0', '3.2.1', '3.2.2', '3.3.0', '3.3.1', '3.3.2', '3.4.0', '3.4.1', '3.4.2', 'v4.0.0', 'v4.0.1', 'v4.0.2', 'v4.1.0', 'v4.1.1', 'v4.1.2', 'v4.2.0', 'v4.2.1', 'v4.2.2', 'v4.3.0', 'v4.3.1', 'v4.4.0', 'v4.4.1', 'v4.4.2']\n"
     ]
    }
   ],
   "source": [
    "import re\n",
    "\n",
    "versions = {}\n",
    "major_minor_patch_versions = []\n",
    "\n",
    "pattern = \"^v?(\\d\\.\\d)(\\.\\d)?$\"\n",
    "\n",
    "for tag in tags:\n",
    "    m = re.search(pattern, tag)\n",
    "    if m is not None:\n",
    "        if not versions.get(m.groups()[0], False):\n",
    "            versions[m.groups()[0]] = tag\n",
    "        major_minor_patch_versions.append(tag)\n",
    "               \n",
    "major_minor_versions = list(versions.values())\n",
    "\n",
    "print(\"Major_minor : \", major_minor_versions)\n",
    "print(\"Major_minor_patch : \", major_minor_patch_versions)"
   ]
  },
  {
   "cell_type": "code",
   "execution_count": 5,
   "id": "551ad11e",
   "metadata": {},
   "outputs": [],
   "source": [
    "\n",
    "major_minor_patch_versions1 = ['1.4','1.5.0','1.5.1','1.5.2','1.6.1','2.0.0','2.0.1','3.0.0','3.0.1','3.1.0','3.1.1','3.1.2','3.2.0','3.2.1',\n",
    "                              '3.2.2','3.3.0','3.3.1','3.3.2','3.4.0','3.4.1','3.4.2','v4.0.0','v4.0.1','v4.0.2','v4.1.0','v4.1.1','v4.1.2',\n",
    "                              'v4.2.0','v4.2.1','v4.2.2','v4.3.0','v4.3.1','v4.4.0','v4.4.1','v4.4.2']\n",
    "major_minor_versions1 = ['1.4','1.5.0','1.6.1','2.0.0','3.0.0','3.1.0','3.2.0','3.3.0','3.4.0','v4.0.0','v4.1.0','v4.2.0','v4.3.0','v4.4.0']"
   ]
  },
  {
   "cell_type": "markdown",
   "id": "aca20a9c-4269-42e0-82d0-ff33d9fe9b30",
   "metadata": {},
   "source": [
    "### 2.2 Law of Increasing Growth\n",
    "1. Fetch the required data (lines of code, blank lines, comment lines and number of files) for each tag along with their release date using CLOC\n",
    "2. Separate the data as following (also mentioned in section 2.1 of the description document)  \n",
    "    a) Consider all the three-component versions (major.minor.patch) - Dataset A  \n",
    "    b) Consider only the minor versions (major.minor) - Dataset B  \n",
    "\n",
    "Note: For example, if there exists any tag like 2.1.0.1, then you can consider it as 2.1.0 provided such a tag does not exist in the data. If both 2.1.0 and 2.1.0.1 exists, then you can ignore the latter "
   ]
  },
  {
   "cell_type": "markdown",
   "id": "cbab47f1-933d-4b28-8a35-f7c3e82cd15c",
   "metadata": {},
   "source": [
    "Code hint:  \n",
    "To set the project to a required tag - \"command = f'git -C {project_path} reset --hard {tag}'\"  \n",
    "For each tag, pass the command to the terminal, invoke cloc tool to get the necessary data in the required format (json, md,...), read the terminal output and store the data"
   ]
  },
  {
   "cell_type": "code",
   "execution_count": null,
   "id": "f722fc93-4221-4ece-91e0-d521ddc84987",
   "metadata": {},
   "outputs": [],
   "source": []
  },
  {
   "cell_type": "code",
   "execution_count": 9,
   "id": "aefb6d51-33bb-4a0c-95ea-aac4f62c3366",
   "metadata": {},
   "outputs": [],
   "source": [
    "command = f'git -C {eucalyptus_project_path} tag -l --format=\"%(refname:short)|%(creatordate:short)\" | sort -r' # to get the release date\n",
    "process = subprocess.Popen(command, stdout=subprocess.PIPE, shell=True)\n",
    "# Your code to obtain the release date of each tag and combine it with the data obtained in the previous cell. Final data should have\n",
    "# #lines of code, #comments, #files, #blanks, #release date"
   ]
  },
  {
   "cell_type": "code",
   "execution_count": null,
   "id": "c9d32893-d57a-4edc-b1e7-1825b64ae9c9",
   "metadata": {},
   "outputs": [],
   "source": [
    "# Your code here to get the versions of the form major.minor "
   ]
  },
  {
   "cell_type": "code",
   "execution_count": 7,
   "id": "1b8ba85a-ea94-4cc3-980e-46d42f59ef0e",
   "metadata": {},
   "outputs": [],
   "source": [
    "# Your code here to get the versions of the form major.minor.patch"
   ]
  },
  {
   "cell_type": "markdown",
   "id": "5635bd4d-979b-44a2-ae4a-1962b170445a",
   "metadata": {},
   "source": [
    "#### Visualization\n",
    "1. x-axis = version, y-axis = number  \n",
    "    i) for tags of the type major.minor.patch  \n",
    "    ii) for tags of the type major.minor  \n",
    "\n",
    "2. x-axis = date, y-axis = number  \n",
    "    i) for tags of the type major.minor.patch  \n",
    "    ii) for tags of the type major.minor  \n",
    "\n",
    "For easy comparison, place the plots with the versions on x-axis should be on the top (0,0) and (1,0) and their corresponding plots with date on the x-axis right below them (1,0) and (1,1) "
   ]
  },
  {
   "cell_type": "code",
   "execution_count": 10,
   "id": "2b146e1b-99f4-4a0f-8202-2231a10a86b2",
   "metadata": {
    "scrolled": true
   },
   "outputs": [
    {
     "data": {
      "image/png": "[encoded data removed]",
      "text/plain": [
       "<Figure size 1080x1080 with 4 Axes>"
      ]
     },
     "metadata": {
      "needs_background": "light"
     },
     "output_type": "display_data"
    }
   ],
   "source": [
    "import pandas as pd\n",
    "import matplotlib.pyplot as plt\n",
    "\n",
    "fig, axs = plt.subplots(2, 2, figsize=(15, 15))\n",
    "\n",
    "df1 = pd.read_csv(\"LIG_major_minor.csv\", delimiter = ',')\n",
    "df2 = pd.read_csv(\"LIG_major_minor_patch.csv\", delimiter = ',')\n",
    "\n",
    "#display(df2)\n",
    "\n",
    "y1=df1[\"nb_code\"]\n",
    "x1=df1[\"date\"]\n",
    "x2=df1[\"major.minor\"]\n",
    "y3=df2[\"nb_code\"]\n",
    "x3=df2[\"date\"]\n",
    "x4=df2[\"major.minor.patch\"]\n",
    "\n",
    "axs[0, 0].plot(x1,y1)\n",
    "axs[0, 0].tick_params('x', labelrotation=90)\n",
    "\n",
    "axs[1, 0].plot(x2,y1)\n",
    "\n",
    "axs[0, 1].plot(x3,y3)\n",
    "axs[0, 1].tick_params('x', labelrotation=90)\n",
    "\n",
    "axs[1, 1].plot(x4,y3)\n",
    "axs[1, 1].tick_params('x', labelrotation=90)\n",
    "\n",
    "plt.show()"
   ]
  },
  {
   "cell_type": "markdown",
   "id": "8774bc4c-9131-425d-b8d2-9d0940e48f6c",
   "metadata": {},
   "source": [
    "### Questions:\n",
    "1. Do you find any difference between the plot that is having date in the x-axis and the plot that is having tag in the x-axis? If yes, then what is the difference? If no, then why is it same?"
   ]
  },
  {
   "cell_type": "code",
   "execution_count": null,
   "id": "86f3b84f",
   "metadata": {},
   "outputs": [],
   "source": []
  },
  {
   "cell_type": "markdown",
   "id": "b03dae7d-de25-4146-baf6-d8bfd2419549",
   "metadata": {},
   "source": [
    "\n",
    "\n",
    "2. Which type of plot is preferable for software evolution analysis?   \n",
    "    a) date in x-axis  \n",
    "    b) tag in x-axis  \n",
    "Why?"
   ]
  },
  {
   "cell_type": "markdown",
   "id": "ea949023-d96b-4fdd-9027-d453bdf51e99",
   "metadata": {},
   "source": [
    "tag in x-axis, date does not reflect wether huge update are made. One cannot justify the growth of the project with date but with tags it make more sens."
   ]
  },
  {
   "cell_type": "markdown",
   "id": "6110bbae-e381-43ec-9a51-72bf941e3ced",
   "metadata": {},
   "source": [
    "3. Choose an option regarding the growth of the software by considering Dataset A. Motivate your choice using a 1d regression plot (below).  \n",
    "    a) Linear  \n",
    "    b) Sub-linear  \n",
    "    c) Super-linear  "
   ]
  },
  {
   "cell_type": "markdown",
   "id": "cb637502-7b6c-4eb2-8b9e-6cc2f3793031",
   "metadata": {},
   "source": []
  },
  {
   "cell_type": "code",
   "execution_count": 11,
   "id": "1b3a1dc2-2030-4f14-bf05-147628c7dd65",
   "metadata": {},
   "outputs": [
    {
     "data": {
      "text/plain": [
       "<Figure size 504x504 with 0 Axes>"
      ]
     },
     "execution_count": 11,
     "metadata": {},
     "output_type": "execute_result"
    },
    {
     "data": {
      "text/plain": [
       "<Figure size 504x504 with 0 Axes>"
      ]
     },
     "metadata": {},
     "output_type": "display_data"
    }
   ],
   "source": [
    "plt.figure(figsize=(7,7))\n",
    "# Your code for regression plot"
   ]
  },
  {
   "cell_type": "markdown",
   "id": "c7cc92a4-8386-4359-b041-ce267552a09a",
   "metadata": {},
   "source": [
    "### Correlation \n",
    "Correlation is generally used to analyse the relationship between variables. Here, analyse the relationship between the number of lines of code and the number of files using Spearman correlation and Pearson correlation by considering Dataset A. Report the correlation upto 3 decimal places"
   ]
  },
  {
   "cell_type": "code",
   "execution_count": 13,
   "id": "70749ee7-78a8-4344-90cb-2ff0b6a0572f",
   "metadata": {},
   "outputs": [
    {
     "name": "stdout",
     "output_type": "stream",
     "text": [
      "Pearson correlation : 0.993\n",
      "Spearman correlation : 0.977\n"
     ]
    }
   ],
   "source": [
    "# Your code for correlation\n",
    "pearson_corr = scipy.stats.pearsonr(df2[\"nb_code\"], df2[\"nb_nfiles\"])[0]\n",
    "\n",
    "spearman_corr = scipy.stats.spearmanr(df2[\"nb_code\"], df2[\"nb_nfiles\"])[0]\n",
    "\n",
    "print(f'Pearson correlation : {pearson_corr:.3f}')\n",
    "print(f'Spearman correlation : {spearman_corr:.3f}')\n"
   ]
  },
  {
   "cell_type": "markdown",
   "id": "3e8f82aa-ce42-4355-8de1-916e371f5af2",
   "metadata": {},
   "source": [
    "### Questions:\n",
    "4. Do you find any difference in correlation values between Pearson and Spearman? Which one is preferable for this use case? why?"
   ]
  },
  {
   "cell_type": "markdown",
   "id": "b6e1599e-113c-4bfa-9c0b-eac18aae3a27",
   "metadata": {},
   "source": [
    "Spearman and Peasron both show high correlation. "
   ]
  },
  {
   "cell_type": "markdown",
   "id": "fb9a8312-20fd-41f7-875e-668761a998a6",
   "metadata": {},
   "source": [
    "5. Based on the above correlation value, how much is the number of lines of code related to the number of files?"
   ]
  },
  {
   "cell_type": "markdown",
   "id": "4ebe75dc-cb80-469b-909d-ca4293365f25",
   "metadata": {},
   "source": []
  },
  {
   "cell_type": "markdown",
   "id": "72e2ea6c-cb13-4dae-8666-ed599c928efe",
   "metadata": {},
   "source": [
    "### Prediction\n",
    "Consider Dataset A for this task. Drop the last two data points in \"number of lines of code\" (LOC) (i.e. drop (LOC) corresponding to v4.4.1 and v4.4.2) and forecast the values for (LOC) for v4.4.1 and v4.4.2 using a basic linear/polynimial regression model.\n",
    "1. Drop the last two data points\n",
    "2. Build a basic regression model\n",
    "3. Ask the model to forecast the next two data points\n",
    "4. Plot the LOC original and forecasted in the same plot. x-axis = date, y-axis = number of lines of code"
   ]
  },
  {
   "cell_type": "code",
   "execution_count": 14,
   "id": "1a8b2e38-2975-439e-81d3-8c6dc46ccab9",
   "metadata": {},
   "outputs": [
    {
     "name": "stdout",
     "output_type": "stream",
     "text": [
      "data =\n",
      " 33    532915\n",
      "34    533292\n",
      "Name: nb_code, dtype: int64\n",
      "prediction=\n",
      " [521785.43260368 522053.91601528]\n"
     ]
    }
   ],
   "source": [
    "df3 = df2.tail(2)\n",
    "\n",
    "\n",
    "df2.drop(index=df2.index[-2:])\n",
    "\n",
    "X = df2[[\"nb_blank\",\"nb_comment\",\"nb_nfiles\"]]\n",
    "y = df2[\"nb_code\"]\n",
    "\n",
    "\n",
    "model = LinearRegression()\n",
    "model.fit(X, y)\n",
    "\n",
    "\n",
    "X_predict = df3[[\"nb_blank\",\"nb_comment\",\"nb_nfiles\"]]\n",
    "y_predict = model.predict(X_predict)\n",
    "\n",
    "print(\"data =\\n\", df3[\"nb_code\"])\n",
    "\n",
    "print(\"prediction=\\n\", y_predict)"
   ]
  },
  {
   "cell_type": "code",
   "execution_count": 15,
   "id": "e6141273-c4f5-44a9-ac5d-a548b7a7a189",
   "metadata": {},
   "outputs": [],
   "source": [
    "a = df2[\"nb_code\"]\n",
    "b = df2[\"nb_nfiles\"]\n",
    "\n",
    "result = scipy.stats.linregress(a, b)"
   ]
  },
  {
   "cell_type": "code",
   "execution_count": null,
   "id": "7db7464c-88d3-492d-9078-42e899757af2",
   "metadata": {},
   "outputs": [],
   "source": [
    "# Your code here"
   ]
  },
  {
   "cell_type": "code",
   "execution_count": null,
   "id": "e67d1b02-fc45-480a-8e03-d9a291636a33",
   "metadata": {},
   "outputs": [],
   "source": [
    "# Your plotting code here"
   ]
  },
  {
   "cell_type": "markdown",
   "id": "8bdd2798-1e93-4beb-8339-4e408d3c39c2",
   "metadata": {},
   "source": [
    "### Questions:\n",
    "6. What is the polynomial degree that you adopted to build the model? Why? "
   ]
  },
  {
   "cell_type": "markdown",
   "id": "f3c421f9-c6f2-4350-8ded-a70a974c86d0",
   "metadata": {},
   "source": [
    "1"
   ]
  },
  {
   "cell_type": "markdown",
   "id": "6a98e16e-1114-4f4b-9867-3f60019ee45f",
   "metadata": {},
   "source": [
    "7. What is the coefficient of determination? (R-squared)"
   ]
  },
  {
   "cell_type": "markdown",
   "id": "0954e7aa-cedd-4f1b-bce2-7793c0cf04c7",
   "metadata": {},
   "source": []
  },
  {
   "cell_type": "markdown",
   "id": "e621e18e-26a2-4cf5-ab5c-162d87b5889d",
   "metadata": {},
   "source": [
    "8. What is the Root mean square error for the forecasted values?"
   ]
  },
  {
   "cell_type": "markdown",
   "id": "e9e7d092-76af-470a-b85b-563ae5613cf8",
   "metadata": {},
   "source": []
  },
  {
   "cell_type": "markdown",
   "id": "393f2a07-2dd7-4ab3-86c7-0b0ba07f046b",
   "metadata": {},
   "source": [
    "### Filtering on coding language"
   ]
  },
  {
   "cell_type": "markdown",
   "id": "76c3ed66-711b-4f01-af30-dac4f927bc88",
   "metadata": {},
   "source": [
    "Consider the prominent langugages used in this software project and plot the distribution of their LOC in a pie chart for the first and the last versions"
   ]
  },
  {
   "cell_type": "code",
   "execution_count": 25,
   "id": "9fb22e22-5b37-4a67-9d43-dab4121fa83d",
   "metadata": {},
   "outputs": [],
   "source": [
    "df4 = pd.read_csv(\"data.csv\", delimiter = ',')"
   ]
  },
  {
   "cell_type": "code",
   "execution_count": 27,
   "id": "dc14b7fe-b4d2-423c-b9c8-b79eb498ef3c",
   "metadata": {
    "scrolled": true
   },
   "outputs": [
    {
     "data": {
      "text/plain": [
       "[]"
      ]
     },
     "execution_count": 27,
     "metadata": {},
     "output_type": "execute_result"
    },
    {
     "data": {
      "image/png": "[encoded data removed]",
      "text/plain": [
       "<Figure size 432x288 with 1 Axes>"
      ]
     },
     "metadata": {},
     "output_type": "display_data"
    }
   ],
   "source": [
    "languages = df4[\"language\"]\n",
    "sizes = df4[\"code\"]\n",
    "\n",
    "total = sum(sizes)\n",
    "displayed_languages = {\"other\": 0}\n",
    "other_languages = {}\n",
    "\n",
    "for language, size in zip(languages, sizes):\n",
    "    if size < 0.01 * total:\n",
    "        displayed_languages[\"other\"] += size\n",
    "        other_languages[language] = size \n",
    "    else:\n",
    "        displayed_languages[language] = size\n",
    "        \n",
    "fig, ax = plt.subplots()\n",
    "ax.pie(displayed_languages.keys(), labels=displayed_languages.values(), autopct='%1.1f%%')\n",
    "\n",
    "plt.plot() "
   ]
  },
  {
   "cell_type": "markdown",
   "id": "056e7d22-fee2-4efb-ace7-c06b99edbd36",
   "metadata": {},
   "source": [
    "### Question:\n",
    "9. Do you find any significant difference in the distribution of the language used in the software project between its first and the last version? If so, what is the difference and how much is it?"
   ]
  },
  {
   "cell_type": "code",
   "execution_count": null,
   "id": "8397df5e-e0cd-4608-8e28-d94240b7ace9",
   "metadata": {},
   "outputs": [],
   "source": []
  },
  {
   "cell_type": "markdown",
   "id": "44d37ce7-c3ad-4eb9-a7e6-b7f52ac137c1",
   "metadata": {},
   "source": [
    "### Law of increasing growth for coding langugages"
   ]
  },
  {
   "cell_type": "markdown",
   "id": "ededc08c-1bd4-4725-984a-61a71aa240c6",
   "metadata": {},
   "source": [
    "Get the LOC for each of the considered prominent langugages (as above) for each version of the form major.minor.patch  \n",
    "1) Plot the date (x-axis) vs LOC (y-axis) \n",
    "2) Plot the date (x-axis) vs proportional LOC (y-axis). Proportional is LOC of a language/total number of LOC"
   ]
  },
  {
   "cell_type": "code",
   "execution_count": null,
   "id": "ccd66fa9-c455-4339-bf42-e9b881d6ffad",
   "metadata": {},
   "outputs": [],
   "source": [
    "# Your code to get the LOC for each prominent language of each version"
   ]
  },
  {
   "cell_type": "code",
   "execution_count": null,
   "id": "bf843988-362f-4486-9e49-5a641c1d04dc",
   "metadata": {},
   "outputs": [],
   "source": [
    "# Your plotting code here"
   ]
  },
  {
   "cell_type": "markdown",
   "id": "ea3b1876-ad5a-4f90-96e8-ed07e2852101",
   "metadata": {},
   "source": [
    "### Question:\n",
    "10. Does the prominent languages considered by you obey laws of increasing growth?"
   ]
  },
  {
   "cell_type": "markdown",
   "id": "8df7db15-f203-41d6-9bd6-eccf2f9742b5",
   "metadata": {},
   "source": []
  },
  {
   "cell_type": "markdown",
   "id": "478c66e4-4f20-4ed8-98db-70bdcf920fcd",
   "metadata": {},
   "source": [
    "11. Does this software project obey the Law of Increasing Growth?"
   ]
  },
  {
   "cell_type": "markdown",
   "id": "26146858-0cb6-4fd8-9a6b-debef98390b7",
   "metadata": {},
   "source": []
  },
  {
   "cell_type": "markdown",
   "id": "375ae835-c18c-4af3-a730-32d853df034a",
   "metadata": {},
   "source": [
    "### Modify the CLOC parameters"
   ]
  },
  {
   "cell_type": "markdown",
   "id": "b3d71b90-1492-4833-9c0a-c8a0f7446ada",
   "metadata": {},
   "source": [
    "1. Exclude all bank lines and verify if the Law of Increasing Growth still holds good for this filtering"
   ]
  },
  {
   "cell_type": "code",
   "execution_count": null,
   "id": "ff129b14-94ae-460c-bcb3-981180e72db3",
   "metadata": {},
   "outputs": [],
   "source": [
    "# Your code and plot here"
   ]
  },
  {
   "cell_type": "markdown",
   "id": "5cb0cee6-19b3-4e50-8cb5-82eb50736713",
   "metadata": {},
   "source": [
    "2. Exclude all comment lines and verify if the Law of Increasing Growth still holds good for this filtering"
   ]
  },
  {
   "cell_type": "code",
   "execution_count": null,
   "id": "7d971a34-fe97-4793-9864-07b2114ed373",
   "metadata": {},
   "outputs": [],
   "source": [
    "# Your code and plot here"
   ]
  },
  {
   "cell_type": "markdown",
   "id": "16cfd99a-0a91-497d-a1f9-4d7a8d407736",
   "metadata": {},
   "source": [
    "3. Exclude all non-code files (or consider prominent coding langugages used in the project) and and verify if the Law of Increasing Growth still holds good for this filtering"
   ]
  },
  {
   "cell_type": "code",
   "execution_count": null,
   "id": "d4981a7f-f79a-4e62-9ba3-94723a0ad640",
   "metadata": {},
   "outputs": [],
   "source": [
    "# Your code and plot here"
   ]
  },
  {
   "cell_type": "code",
   "execution_count": null,
   "id": "bc0d6002-1014-43d0-8dfc-dae6a8680a04",
   "metadata": {},
   "outputs": [],
   "source": []
  },
  {
   "cell_type": "markdown",
   "id": "5dfd05d1-2dc8-4abc-8d05-639007bf553e",
   "metadata": {},
   "source": [
    "### 2.3 Law of Continuing Change\n",
    "1. Using CLOC tool, find the features such as number of lines of code that are added, modified, removed and same between two consecutive versions\n",
    "2. Consider all the three component versions (major.minor.patch) - Dataset A\n",
    "3. Consider only the minor versions (major.minor) - Dataset B\n",
    "4. Having all the features in the same plot, create two plots (one for Dataset A and another for Dataset B) the outcomes with date on x-axis and the number on y-axis.\n",
    "5. Make a subplot of all the features\n",
    "\n",
    "Code hint:  \n",
    "For each pair of tags, set the original project to the required tag and the copy of the original project to the next tag.  \n",
    "To get the required data in json format - \"command = f'CLOC/cloc --git --diff {first_project_path} {second_project_path} --json'\""
   ]
  },
  {
   "cell_type": "code",
   "execution_count": null,
   "id": "c38f5e8d-245b-4307-9d98-2340cbea06a1",
   "metadata": {},
   "outputs": [],
   "source": [
    "eucalyptus_project_path = '' # your project path here\n",
    "eucalyptus_copy_project_path = '' # your path to the copy of your project here\n",
    "major_minor_patch_versions = '' #set of version that you would like to consider for this analysis"
   ]
  },
  {
   "cell_type": "code",
   "execution_count": null,
   "id": "f0682e1c-dd84-4f31-bdfa-781e5a6ac75f",
   "metadata": {},
   "outputs": [],
   "source": [
    "# Your code here to get the data"
   ]
  },
  {
   "cell_type": "code",
   "execution_count": null,
   "id": "7b5f935d-dc48-4b97-8d5c-9168e372bb47",
   "metadata": {},
   "outputs": [],
   "source": [
    "# Your code here to get the dates corresponding to the tags"
   ]
  },
  {
   "cell_type": "code",
   "execution_count": null,
   "id": "8500a388-8c65-4203-81df-156a9425b67e",
   "metadata": {},
   "outputs": [],
   "source": [
    "# Your plotting code here (all the features in a single plot)"
   ]
  },
  {
   "cell_type": "code",
   "execution_count": null,
   "id": "9505d1a0-2c0d-470a-b545-95680be092f4",
   "metadata": {},
   "outputs": [],
   "source": [
    "# Your plotting code here, different plot for each feature\n",
    "fig,axes = plt.subplots(2,2)"
   ]
  },
  {
   "cell_type": "markdown",
   "id": "a96114cb-aafb-4c57-8bff-af5d309b1994",
   "metadata": {},
   "source": [
    "### Questions:\n",
    "1. Do you find the Law of Continuing Change holding good here? Prove it empirically."
   ]
  },
  {
   "cell_type": "markdown",
   "id": "131fe261-c978-434d-824f-f6e416fb6110",
   "metadata": {},
   "source": []
  },
  {
   "cell_type": "markdown",
   "id": "dd5ee600-da8e-431d-9028-fc3fc3d9f97e",
   "metadata": {},
   "source": [
    "2. Does the law of increasing growth too hold good here?"
   ]
  },
  {
   "cell_type": "markdown",
   "id": "7fe9e863-19a3-4f53-b50e-b8f065615839",
   "metadata": {},
   "source": []
  },
  {
   "cell_type": "markdown",
   "id": "ce62cb54-5d8f-4e65-a50b-b12cd9f6e362",
   "metadata": {},
   "source": [
    "### Law of continuing change for coding languages\n",
    "Consider the prominent languages used in this software project for versions of the form major.minor.patch\n",
    "1. Obtain the number of lines of code that are added, modified, removed and same between two consecutive versions\n",
    "2. Make plots for each parameter (added, modified, removed and same) with date on x-axis  \n",
    "    a) y-axis number of lines of code   \n",
    "    b) y-axis proportional number of lines of code (number of lines of code of that language/total number of lines of code) "
   ]
  },
  {
   "cell_type": "code",
   "execution_count": null,
   "id": "9707b16c-abb1-4ef8-bd77-af85711cd624",
   "metadata": {},
   "outputs": [],
   "source": [
    "# Your code here"
   ]
  },
  {
   "cell_type": "code",
   "execution_count": null,
   "id": "aaf138ba-8d1e-498a-ac34-17c05c1b0b16",
   "metadata": {},
   "outputs": [],
   "source": [
    "# Your plotting code here\n",
    "fig,axes = plt.subplots(2,2)"
   ]
  },
  {
   "cell_type": "markdown",
   "id": "b4297222-6881-4cc5-a335-c707c3c3c0c1",
   "metadata": {},
   "source": [
    "### Question:\n",
    "3. Does the law of continuing change obey here for all the considered prominent langugages? Comment on the rate of growth.  "
   ]
  },
  {
   "cell_type": "markdown",
   "id": "ae7d089a-2bb5-4a18-a6d4-5919fe73a8d9",
   "metadata": {},
   "source": []
  },
  {
   "cell_type": "markdown",
   "id": "ea29d2e5-7f12-46c4-baad-e4abe3406e9f",
   "metadata": {},
   "source": [
    "4. Does this software project obey Law of Continuing Change?"
   ]
  },
  {
   "cell_type": "markdown",
   "id": "0fe3765f-2f31-4ecc-96cf-991cdb610a14",
   "metadata": {},
   "source": []
  },
  {
   "cell_type": "code",
   "execution_count": null,
   "id": "46b3a214-86cd-4f91-9f1c-ca31089a3c21",
   "metadata": {},
   "outputs": [],
   "source": []
  }
 ],
 "metadata": {
  "kernelspec": {
   "display_name": "Python 3 (ipykernel)",
   "language": "python",
   "name": "python3"
  },
  "language_info": {
   "codemirror_mode": {
    "name": "ipython",
    "version": 3
   },
   "file_extension": ".py",
   "mimetype": "text/x-python",
   "name": "python",
   "nbconvert_exporter": "python",
   "pygments_lexer": "ipython3",
   "version": "3.10.7"
  }
 },
 "nbformat": 4,
 "nbformat_minor": 5
}
